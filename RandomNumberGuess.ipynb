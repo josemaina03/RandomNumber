{
 "cells": [
  {
   "cell_type": "code",
   "execution_count": null,
   "id": "83f6a42f",
   "metadata": {},
   "outputs": [],
   "source": [
    "import random\n",
    "\n",
    "def guess_number():\n",
    "    target_number = random.randint(1, 100)  # Generate a random number between 1 and 100\n",
    "    attempts = 0\n",
    "\n",
    "    while True:\n",
    "        guess = int(input(\"Guess a number between 1 and 100: \"))\n",
    "        attempts += 1\n",
    "\n",
    "        if guess < target_number:\n",
    "            print(\"Too low, try again!\")\n",
    "        elif guess > target_number:\n",
    "            print(\"Too high, try again!\")\n",
    "        else:\n",
    "            print(f\"Congratulations! You guessed the number {target_number} in {attempts} attempts!\")\n",
    "            break\n",
    "\n",
    "guess_number()\n"
   ]
  },
  {
   "cell_type": "code",
   "execution_count": null,
   "id": "970b9b3a",
   "metadata": {},
   "outputs": [],
   "source": []
  }
 ],
 "metadata": {
  "kernelspec": {
   "display_name": "Python 3 (ipykernel)",
   "language": "python",
   "name": "python3"
  },
  "language_info": {
   "codemirror_mode": {
    "name": "ipython",
    "version": 3
   },
   "file_extension": ".py",
   "mimetype": "text/x-python",
   "name": "python",
   "nbconvert_exporter": "python",
   "pygments_lexer": "ipython3",
   "version": "3.10.9"
  }
 },
 "nbformat": 4,
 "nbformat_minor": 5
}
